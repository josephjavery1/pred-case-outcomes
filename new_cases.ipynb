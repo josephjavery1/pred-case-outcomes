{
 "cells": [
  {
   "cell_type": "code",
   "execution_count": 1,
   "metadata": {
    "collapsed": true
   },
   "outputs": [],
   "source": [
    "# Here we will put all the packages needed. All lines that starts with an exclamation mark (!) are packages to download (not \n",
    "# very common). If you don't have the package, just remove the comment symbol (#)\n",
    "\n",
    "#! pip install python-docx\n",
    "\n",
    "import os\n",
    "import pandas as pd\n",
    "import numpy as np\n",
    "from docx import Document\n",
    "\n",
    "path_to_folder = '/Users/thymol/Desktop/Comp/pred-case-outcomes/new_cases'\n",
    "os.chdir(path_to_folder)\n",
    "\n",
    "# Change this if needed\n",
    "# NUM_OF_FILES= 3\n",
    "NUM_OF_FILES= 3854"
   ]
  },
  {
   "cell_type": "code",
   "execution_count": 2,
   "metadata": {},
   "outputs": [],
   "source": [
    "# Clean up file list. We do not want the files with filenames that start with '~'. \n",
    "file_list= []\n",
    "for file_name in sorted(os.listdir()):\n",
    "    if not file_name.startswith('~') and file_name.endswith('.docx'):\n",
    "        file_list.append(file_name)\n",
    "# print(file_list)\n",
    "\n",
    "# Check if the number of files in the list is correct. \n",
    "assert(len(file_list) == NUM_OF_FILES)"
   ]
  },
  {
   "cell_type": "code",
   "execution_count": 3,
   "metadata": {},
   "outputs": [],
   "source": [
    "document_list= []\n",
    "award_list= []\n",
    "\n",
    "# Initializing for loop over all files in folder\n",
    "for file_name in file_list:\n",
    "    doc= ''\n",
    "    award= np.nan\n",
    "    # Create a temporary file. Within this file we will get every paragraph \n",
    "    temp= Document(file_name)\n",
    "\n",
    "    j= 0\n",
    "    is_summary= 0\n",
    "    for p in temp.paragraphs:\n",
    "        text= str.lower(p.text)\n",
    "#         print('Paragraph ' + str(j))\n",
    "#         print(text)\n",
    "#         print('###########')\n",
    "        \n",
    "        # Contains style info: section title is bolded. \n",
    "        # To be completed. \n",
    "        if p.runs != []:\n",
    "            run= p.runs[0]\n",
    "        \n",
    "        if 'case summary' in text:\n",
    "            is_summary= 1\n",
    "        \n",
    "        if is_summary:\n",
    "            doc= doc + ' ' + text\n",
    "\n",
    "        if text.startswith('award:'):\n",
    "            award= text.lstrip('award: ')\n",
    "\n",
    "    document_list.append(doc)\n",
    "    award_list.append(award)\n"
   ]
  },
  {
   "cell_type": "code",
   "execution_count": 4,
   "metadata": {},
   "outputs": [],
   "source": [
    "case_name_list= [f.rstrip('.docx') for f in file_list]\n",
    "headers= ['case_name', 'award', 'document']\n",
    "df= pd.DataFrame(list(zip(case_name_list, award_list, document_list)), columns=headers)"
   ]
  },
  {
   "cell_type": "code",
   "execution_count": 5,
   "metadata": {},
   "outputs": [],
   "source": [
    "# Cases with missing award\n",
    "df_award_tbd= df[df['award'].isnull()].copy()"
   ]
  },
  {
   "cell_type": "code",
   "execution_count": 7,
   "metadata": {},
   "outputs": [],
   "source": [
    "os.chdir('..')\n",
    "headers_print= ['case_name', 'award']\n",
    "df.to_csv('award.csv', columns=headers_print)\n",
    "df_award_tbd.to_csv('award_tbd.csv', columns=headers_print)"
   ]
  },
  {
   "cell_type": "code",
   "execution_count": 16,
   "metadata": {},
   "outputs": [],
   "source": [
    "# Read award_tbd with original indices. \n",
    "df2= pd.read_csv('award_tbd.csv', index_col='Unnamed: 0')"
   ]
  },
  {
   "cell_type": "code",
   "execution_count": null,
   "metadata": {
    "collapsed": true
   },
   "outputs": [],
   "source": []
  }
 ],
 "metadata": {
  "kernelspec": {
   "display_name": "Python 3",
   "language": "python",
   "name": "python3"
  },
  "language_info": {
   "codemirror_mode": {
    "name": "ipython",
    "version": 3
   },
   "file_extension": ".py",
   "mimetype": "text/x-python",
   "name": "python",
   "nbconvert_exporter": "python",
   "pygments_lexer": "ipython3",
   "version": "3.6.2"
  }
 },
 "nbformat": 4,
 "nbformat_minor": 2
}
