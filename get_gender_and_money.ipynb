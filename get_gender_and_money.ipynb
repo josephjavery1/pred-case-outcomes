{
 "cells": [
  {
   "cell_type": "code",
   "execution_count": 1,
   "metadata": {
    "collapsed": true
   },
   "outputs": [],
   "source": [
    "# Here we will put all the packages needed. All lines that starts with an exclamation mark (!) are packages to download (not \n",
    "# very common). If you don't have the package, just remove the comment symbol (#)\n",
    "\n",
    "#! pip install python-docx\n",
    "\n",
    "import os\n",
    "\n",
    "from docx import Document\n",
    "\n",
    "path_to_folder = '/Users/thymol/Desktop/Comp/pred-case-outcomes/'\n",
    "os.chdir('{}154 cases'.format(path_to_folder))\n",
    "\n",
    "# Change this if needed\n",
    "NUM_OF_FILES= 151"
   ]
  },
  {
   "cell_type": "code",
   "execution_count": 2,
   "metadata": {},
   "outputs": [],
   "source": [
    "# Clean up file list. We do not want the files with filenames that start with '~'. \n",
    "file_list= []\n",
    "for file_name in sorted(os.listdir()):\n",
    "    if not file_name.startswith('~') and file_name.endswith('.docx'):\n",
    "        file_list.append(file_name)\n",
    "# print(file_list)\n",
    "\n",
    "# Check if the number of files in the list is correct. \n",
    "assert(len(file_list) == NUM_OF_FILES)"
   ]
  },
  {
   "cell_type": "code",
   "execution_count": 3,
   "metadata": {
    "collapsed": true
   },
   "outputs": [],
   "source": [
    "# get_gender searches for gender in the text. It takes in lower_text, female_vocab, and male_vocab. \n",
    "# lower_text is a string in lower case. \n",
    "# female_vocab is a set of strings. \n",
    "# male_vocab is a set of strings. \n",
    "def get_gender(lower_text, female_vocab, male_vocab):\n",
    "    # Clean up and split by space. \n",
    "    lower_text= lower_text.replace(u'\\xa0', u' ')\n",
    "    lower_text_list= lower_text.split(' ')\n",
    "    \n",
    "    # Iterate over the text list. \n",
    "    # Return gender immediately if a word matches the gender vocabs. \n",
    "    for word in lower_text_list:\n",
    "        if word in female_vocab:\n",
    "            return 0\n",
    "        elif word in male_vocab:\n",
    "            return 1\n",
    "    \n",
    "    # Return 'na' if no word matches the gender vocabs. \n",
    "    return -1\n",
    "        "
   ]
  },
  {
   "cell_type": "code",
   "execution_count": 4,
   "metadata": {
    "collapsed": true
   },
   "outputs": [],
   "source": [
    "import re\n",
    "# get_money searches for the specific settlement value in the text. It takes in lower_text and return money. \n",
    "# lower_text is a string in lower case. \n",
    "# money is a float number. \n",
    "def get_money(lower_text):\n",
    "    money_str_list= re.findall(r'\\$\\d[\\d,\\.]* million|\\$\\d[\\d,\\.]*', lower_text)\n",
    "#     print(money_str_list)\n",
    "    if len(money_str_list) == 0:\n",
    "        money= -1.0\n",
    "    else:\n",
    "        money_list= []\n",
    "        for word in money_str_list:\n",
    "            word= word.replace('$','').replace(',','')\n",
    "            if ' million' not in word:\n",
    "                number= float(word)\n",
    "            else:\n",
    "                number= float(word.replace(' million','')) * 1E6\n",
    "            money_list.append(number)\n",
    "#         print(money_list)\n",
    "        money= max(money_list)\n",
    "    return money"
   ]
  },
  {
   "cell_type": "code",
   "execution_count": 5,
   "metadata": {},
   "outputs": [
    {
     "name": "stdout",
     "output_type": "stream",
     "text": [
      "1000000.0\n",
      "1000000.0\n",
      "1500000.0\n",
      "1000000.0\n",
      "1000000.0\n",
      "5820304.0\n",
      "508.4\n",
      "-1.0\n"
     ]
    }
   ],
   "source": [
    "print(get_money('$1,000,000 (abc million)'))\n",
    "print(get_money('$1 million'))\n",
    "print(get_money('$1.5 million'))\n",
    "print(get_money('$1,000,000'))\n",
    "print(get_money('$1 million(abc)'))\n",
    "print(get_money('$5,820,304 ($3 million for suffering$, $425,000 for 83 and $3 nilliom'))\n",
    "print(get_money('$508.40'))\n",
    "print(get_money('settlement'))"
   ]
  },
  {
   "cell_type": "code",
   "execution_count": null,
   "metadata": {
    "collapsed": true
   },
   "outputs": [],
   "source": []
  },
  {
   "cell_type": "code",
   "execution_count": 6,
   "metadata": {
    "collapsed": true
   },
   "outputs": [],
   "source": [
    "# # get_money searches for the specific settlement value in the text. It takes in lower_text and return money. \n",
    "# # lower_text is a string in lower case. \n",
    "# # money is a float number. \n",
    "# def get_money_2(lower_text):\n",
    "#     # If a specific number for settlement is not found, return -1.0\n",
    "#     if '$' not in lower_text:\n",
    "#         return -1.0\n",
    "\n",
    "#     # Clean up and split by space. \n",
    "#     lower_text= lower_text.replace(u'\\xa0', u' ')\n",
    "#     lower_text_list= lower_text.split(' ')\n",
    "#     print(lower_text_list)\n",
    "\n",
    "#     # Iterate over the text list: \n",
    "#     for i in range(len(lower_text_list)):\n",
    "#         word= lower_text_list[i]\n",
    "#         if word.startswith('$'):\n",
    "#             money= float(word.replace('$','').replace(',','')) # Convert string to number\n",
    "#             try:\n",
    "#                 next_word= lower_text_list[i+1]\n",
    "#                 if next_word == 'million':\n",
    "#                     money= money * 1E6\n",
    "#             except:\n",
    "#                 pass\n",
    "#             return money"
   ]
  },
  {
   "cell_type": "code",
   "execution_count": null,
   "metadata": {
    "collapsed": true
   },
   "outputs": [],
   "source": []
  },
  {
   "cell_type": "code",
   "execution_count": 7,
   "metadata": {},
   "outputs": [],
   "source": [
    "# This code creates a dictionary called documents, where the files are stored. Each document has a number as its index. \n",
    "\n",
    "# Initializing the dictionary\n",
    "documents = {}\n",
    "# Setting initial value for the first document\n",
    "i = 0\n",
    "\n",
    "# Vocabulary for gender searching\n",
    "female_vocab= set(['she', 'her', 'woman', 'women', 'girl', 'girls', 'lady', 'ladies']);\n",
    "male_vocab= set(['he', 'his', 'him', 'man', 'men', 'boy', 'boys', 'gentleman', 'gentlemen']);\n",
    "\n",
    "# Initialize lists of case ID, gender and money. \n",
    "######################################################\n",
    "# I was using dictionary with case IDs as the keys.  #\n",
    "# But it seems that we have cases with the same IDs. #\n",
    "######################################################\n",
    "case_id_list= []\n",
    "gender_list= []\n",
    "money_list= []\n",
    "result_list= []\n",
    "\n",
    "# Initializing for loop over all files in folder\n",
    "for filename in file_list:\n",
    "    # Initialize document\n",
    "    doc = ''\n",
    "    #Create a temporary file. Within this file we will get every paragraph \n",
    "    temp = Document('{}'.format(filename))\n",
    "\n",
    "    # Counter for paragraph\n",
    "    j= 0\n",
    "    for p in temp.paragraphs:\n",
    "        lower_text= str.lower(p.text)\n",
    "#         print('Paragraph ' + str(j))\n",
    "#         print(p.text)\n",
    "#         print('###########')\n",
    "        doc = doc + ' ' + p.text\n",
    "        \n",
    "\n",
    "        # Get case ID (which is in paragraph 3). \n",
    "        if j == 3:\n",
    "            case_id= p.text\n",
    "        j+= 1\n",
    "        \n",
    "        # Get gender from Headline\n",
    "        if lower_text.startswith('headline'):\n",
    "            # Split the text by space. \n",
    "            gender= get_gender(lower_text, female_vocab, male_vocab)\n",
    "#             print(p.text)\n",
    "#             print(gender)\n",
    "#             print('###########')\n",
    "        \n",
    "        # If gender is not found in Headline, check Background\n",
    "        if lower_text.startswith('background'):\n",
    "            if gender == -1:\n",
    "                gender= get_gender(lower_text, female_vocab, male_vocab)\n",
    "    #                 print(gender)\n",
    "    #                 print('###########')\n",
    "        \n",
    "        # Get money from Result\n",
    "        if lower_text.startswith('result'):\n",
    "            money= get_money(lower_text)\n",
    "            result= lower_text.replace(',',' ')\n",
    "            \n",
    "            \n",
    "    # Update the lists of case ID, gender, and money. \n",
    "    case_id_list.append(case_id)\n",
    "    gender_list.append(gender)\n",
    "    money_list.append(money)\n",
    "    result_list.append(result)\n",
    "    \n",
    "#     # Print out cases in which gender is not found. \n",
    "#     if gender == 'na':\n",
    "#         print('Gender not found')\n",
    "#         print('Case ID: ' + case_id)\n",
    "#         print('Case number: ' + str(i))\n",
    "#         print('##############')\n",
    "    \n",
    "#     # Print out cases in which money is not found. \n",
    "#     if money == -1.0: \n",
    "#         print('Money not found')\n",
    "#         print('Case ID: ' + case_id)\n",
    "#         print('Case number: ' + str(i))\n",
    "#         print('###################')\n",
    "            \n",
    "\n",
    "    documents[i] = doc\n",
    "    i+=1"
   ]
  },
  {
   "cell_type": "code",
   "execution_count": 8,
   "metadata": {},
   "outputs": [],
   "source": [
    "# Print out the lists of case ID, gender, and money. \n",
    "# print(case_id_list)\n",
    "# print(gender_list)\n",
    "# print(money_list)\n",
    "\n",
    "assert(len(case_id_list) == NUM_OF_FILES)\n",
    "assert(len(gender_list) == NUM_OF_FILES)\n",
    "assert(len(money_list) == NUM_OF_FILES)"
   ]
  },
  {
   "cell_type": "code",
   "execution_count": 9,
   "metadata": {
    "collapsed": true
   },
   "outputs": [],
   "source": [
    "documents[0];"
   ]
  },
  {
   "cell_type": "code",
   "execution_count": 10,
   "metadata": {},
   "outputs": [
    {
     "data": {
      "text/plain": [
       "'/Users/thymol/Desktop/Comp/pred-case-outcomes'"
      ]
     },
     "execution_count": 10,
     "metadata": {},
     "output_type": "execute_result"
    }
   ],
   "source": [
    "os.chdir('..')\n",
    "os.getcwd()"
   ]
  },
  {
   "cell_type": "code",
   "execution_count": 11,
   "metadata": {
    "collapsed": true
   },
   "outputs": [],
   "source": [
    "file_counter= 0\n",
    "with open('gender_and_money.csv','w') as f_out:\n",
    "    for case_id, gender, money, result in zip(case_id_list, gender_list, money_list, result_list):\n",
    "        f_out.write(str(file_counter) + ',' + str(case_id) + ',' + str(gender) + ',' + str(money) + ',' + result + '\\n')\n",
    "#         f_out.write(',')\n",
    "#         f_out.write(str(case_id))\n",
    "#         f_out.write(',')\n",
    "#         f_out.write(str(gender))\n",
    "#         f_out.write(',')\n",
    "#         f_out.write(str(money))\n",
    "#         f_out.write('\\n')\n",
    "        file_counter+= 1\n"
   ]
  },
  {
   "cell_type": "code",
   "execution_count": null,
   "metadata": {
    "collapsed": true
   },
   "outputs": [],
   "source": []
  }
 ],
 "metadata": {
  "kernelspec": {
   "display_name": "Python 3",
   "language": "python",
   "name": "python3"
  },
  "language_info": {
   "codemirror_mode": {
    "name": "ipython",
    "version": 3
   },
   "file_extension": ".py",
   "mimetype": "text/x-python",
   "name": "python",
   "nbconvert_exporter": "python",
   "pygments_lexer": "ipython3",
   "version": "3.6.2"
  }
 },
 "nbformat": 4,
 "nbformat_minor": 2
}
